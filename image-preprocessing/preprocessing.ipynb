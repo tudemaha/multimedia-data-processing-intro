{
 "cells": [
  {
   "cell_type": "code",
   "execution_count": 3,
   "metadata": {},
   "outputs": [],
   "source": [
    "import numpy as np\n",
    "from skimage import io\n",
    "from skimage.feature import graycomatrix, graycoprops\n",
    "import math\n",
    "from matplotlib import pyplot as plt"
   ]
  },
  {
   "cell_type": "code",
   "execution_count": 4,
   "metadata": {},
   "outputs": [],
   "source": [
    "happy = ['0105', '0107', '0110']\n",
    "neutral = ['0101', '0106', '0109']\n",
    "sad = ['0106', '0107', '0110']"
   ]
  },
  {
   "cell_type": "code",
   "execution_count": 5,
   "metadata": {},
   "outputs": [],
   "source": [
    "def create_pixel_matrix(emotion: str, number_images: list) -> list:\n",
    "    images_pixel = []\n",
    "    for i in range(len(number_images)):\n",
    "        images_pixel.append(io.imread(f'datasets/{emotion}/{emotion}-{number_images[i]}.jpg', as_gray = True))\n",
    "    return images_pixel"
   ]
  },
  {
   "cell_type": "code",
   "execution_count": 6,
   "metadata": {},
   "outputs": [],
   "source": [
    "def show_histogram(emotion: str, number_images: list, image_pixel: list):\n",
    "    for i in range(len(image_pixel)):\n",
    "        plt.subplot(1, 2, 1)\n",
    "        plt.imshow(image_pixel[i], cmap = 'gray')\n",
    "        plt.title(f'{emotion}-{number_images[i]}')\n",
    "        \n",
    "        plt.subplot(1, 2, 2)\n",
    "        plt.hist(image_pixel[i].ravel(), 256, [0, 255])\n",
    "        plt.title(f'{emotion}-{number_images[i]} histogram')\n",
    "\n",
    "        plt.show()"
   ]
  },
  {
   "cell_type": "code",
   "execution_count": 7,
   "metadata": {},
   "outputs": [],
   "source": [
    "def first_order_statistics(image_pixel: list):\n",
    "    hist, bins = np.histogram(image_pixel, 256, [0, 255])\n",
    "\n",
    "    # mean\n",
    "    # print(np.mean(image_pixel))\n",
    "    hist_sum = sum(hist)\n",
    "    hist_per_sum = []\n",
    "    mean = 0\n",
    "    for h in hist:\n",
    "        hist_per_sum.append(h / hist_sum)\n",
    "    for i in range(256):\n",
    "        mean += hist_per_sum[i] * i\n",
    "\n",
    "    print(mean)\n",
    "\n",
    "    # variance\n",
    "    # print(np.var(image_pixel))\n",
    "    variance = 0\n",
    "    for i in range(256):\n",
    "        variance += (i - mean) ** 2 * hist_per_sum[i]\n",
    "    print(variance)\n",
    "\n",
    "    # skewness\n",
    "    skewness = 0\n",
    "    for i in range(256):\n",
    "        skewness += (i - mean) ** 3 * hist_per_sum[i]\n",
    "    skewness = skewness / (variance * math.sqrt(variance))\n",
    "    print(skewness)\n",
    "\n",
    "    # kurtosis\n",
    "    kurtosis = 0\n",
    "    for i in range(256):\n",
    "        kurtosis += (i - mean) ** 4 * hist_per_sum[i]\n",
    "    kurtosis = kurtosis / (variance ** 2) - 3\n",
    "    print(kurtosis)\n",
    "\n",
    "    # entropy\n",
    "    entropy = 0\n",
    "    for i in range(246):\n",
    "        entropy += hist_per_sum[i] * math.log2(np.spacing(hist_per_sum[i]))\n",
    "    entropy = -entropy\n",
    "    print(entropy)"
   ]
  },
  {
   "cell_type": "code",
   "execution_count": 8,
   "metadata": {},
   "outputs": [],
   "source": [
    "def glcm_calculation(pixel_image, dist = [5], angles = [0, np.pi / 4, np.pi / 3, 3 * np.pi / 4], level = 256, sym = True, norm = True):\n",
    "    glcm = graycomatrix(pixel_image,\n",
    "                        distances = dist,\n",
    "                        angles = angles,\n",
    "                        symmetric = sym,\n",
    "                        normed = norm)\n",
    "    return glcm"
   ]
  },
  {
   "cell_type": "code",
   "execution_count": 15,
   "metadata": {},
   "outputs": [],
   "source": [
    "def glcm_features(glcm_matrix, props):\n",
    "    features = []\n",
    "    glcm_props = [property for name in props for property in graycoprops(glcm_matrix, name)[0]]\n",
    "    for item in glcm_props:\n",
    "        features.append(item)\n",
    "    \n",
    "    return features"
   ]
  },
  {
   "cell_type": "code",
   "execution_count": 37,
   "metadata": {},
   "outputs": [
    {
     "data": {
      "text/plain": [
       "<matplotlib.image.AxesImage at 0x1ffec5eed10>"
      ]
     },
     "execution_count": 37,
     "metadata": {},
     "output_type": "execute_result"
    },
    {
     "data": {
      "image/png": "[encoded data removed]",
      "text/plain": [
       "<Figure size 640x480 with 2 Axes>"
      ]
     },
     "metadata": {},
     "output_type": "display_data"
    }
   ],
   "source": [
    "pixel_images = create_pixel_matrix('happy', happy)\n",
    "glcm_matrix = glcm_calculation(pixel_images[0], dist=[1])\n",
    "io.imshow(glcm_matrix[0])\n"
   ]
  },
  {
   "cell_type": "code",
   "execution_count": 35,
   "metadata": {},
   "outputs": [
    {
     "ename": "AttributeError",
     "evalue": "'list' object has no attribute 'dtype'",
     "output_type": "error",
     "traceback": [
      "\u001b[1;31m---------------------------------------------------------------------------\u001b[0m",
      "\u001b[1;31mAttributeError\u001b[0m                            Traceback (most recent call last)",
      "\u001b[1;32md:\\Dev\\multimedia-data-processing-intro\\image-preprocessing\\preprocessing.ipynb Cell 9\u001b[0m in \u001b[0;36m4\n\u001b[0;32m      <a href='vscode-notebook-cell:/d%3A/Dev/multimedia-data-processing-intro/image-preprocessing/preprocessing.ipynb#X12sZmlsZQ%3D%3D?line=1'>2</a>\u001b[0m glcm_all_agls \u001b[39m=\u001b[39m []\n\u001b[0;32m      <a href='vscode-notebook-cell:/d%3A/Dev/multimedia-data-processing-intro/image-preprocessing/preprocessing.ipynb#X12sZmlsZQ%3D%3D?line=2'>3</a>\u001b[0m glcm_all_agls\u001b[39m.\u001b[39mappend(glcm_features(glcm_matrix, properties))\n\u001b[1;32m----> <a href='vscode-notebook-cell:/d%3A/Dev/multimedia-data-processing-intro/image-preprocessing/preprocessing.ipynb#X12sZmlsZQ%3D%3D?line=3'>4</a>\u001b[0m io\u001b[39m.\u001b[39;49mimshow(glcm_all_agls[\u001b[39m0\u001b[39;49m])\n\u001b[0;32m      <a href='vscode-notebook-cell:/d%3A/Dev/multimedia-data-processing-intro/image-preprocessing/preprocessing.ipynb#X12sZmlsZQ%3D%3D?line=5'>6</a>\u001b[0m columns \u001b[39m=\u001b[39m []\n\u001b[0;32m      <a href='vscode-notebook-cell:/d%3A/Dev/multimedia-data-processing-intro/image-preprocessing/preprocessing.ipynb#X12sZmlsZQ%3D%3D?line=6'>7</a>\u001b[0m angles \u001b[39m=\u001b[39m [\u001b[39m'\u001b[39m\u001b[39m0\u001b[39m\u001b[39m'\u001b[39m, \u001b[39m'\u001b[39m\u001b[39m45\u001b[39m\u001b[39m'\u001b[39m, \u001b[39m'\u001b[39m\u001b[39m90\u001b[39m\u001b[39m'\u001b[39m,\u001b[39m'\u001b[39m\u001b[39m135\u001b[39m\u001b[39m'\u001b[39m]\n",
      "File \u001b[1;32mc:\\Users\\Gede Mahardika\\AppData\\Local\\Programs\\Python\\Python311\\Lib\\site-packages\\skimage\\io\\_io.py:166\u001b[0m, in \u001b[0;36mimshow\u001b[1;34m(arr, plugin, **plugin_args)\u001b[0m\n\u001b[0;32m    164\u001b[0m \u001b[39mif\u001b[39;00m \u001b[39misinstance\u001b[39m(arr, \u001b[39mstr\u001b[39m):\n\u001b[0;32m    165\u001b[0m     arr \u001b[39m=\u001b[39m call_plugin(\u001b[39m'\u001b[39m\u001b[39mimread\u001b[39m\u001b[39m'\u001b[39m, arr, plugin\u001b[39m=\u001b[39mplugin)\n\u001b[1;32m--> 166\u001b[0m \u001b[39mreturn\u001b[39;00m call_plugin(\u001b[39m'\u001b[39;49m\u001b[39mimshow\u001b[39;49m\u001b[39m'\u001b[39;49m, arr, plugin\u001b[39m=\u001b[39;49mplugin, \u001b[39m*\u001b[39;49m\u001b[39m*\u001b[39;49mplugin_args)\n",
      "File \u001b[1;32mc:\\Users\\Gede Mahardika\\AppData\\Local\\Programs\\Python\\Python311\\Lib\\site-packages\\skimage\\io\\manage_plugins.py:205\u001b[0m, in \u001b[0;36mcall_plugin\u001b[1;34m(kind, *args, **kwargs)\u001b[0m\n\u001b[0;32m    202\u001b[0m     \u001b[39mexcept\u001b[39;00m \u001b[39mIndexError\u001b[39;00m:\n\u001b[0;32m    203\u001b[0m         \u001b[39mraise\u001b[39;00m \u001b[39mRuntimeError\u001b[39;00m(\u001b[39mf\u001b[39m\u001b[39m'\u001b[39m\u001b[39mCould not find the plugin \u001b[39m\u001b[39m\"\u001b[39m\u001b[39m{\u001b[39;00mplugin\u001b[39m}\u001b[39;00m\u001b[39m\"\u001b[39m\u001b[39m for \u001b[39m\u001b[39m{\u001b[39;00mkind\u001b[39m}\u001b[39;00m\u001b[39m.\u001b[39m\u001b[39m'\u001b[39m)\n\u001b[1;32m--> 205\u001b[0m \u001b[39mreturn\u001b[39;00m func(\u001b[39m*\u001b[39;49margs, \u001b[39m*\u001b[39;49m\u001b[39m*\u001b[39;49mkwargs)\n",
      "File \u001b[1;32mc:\\Users\\Gede Mahardika\\AppData\\Local\\Programs\\Python\\Python311\\Lib\\site-packages\\skimage\\io\\_plugins\\matplotlib_plugin.py:149\u001b[0m, in \u001b[0;36mimshow\u001b[1;34m(image, ax, show_cbar, **kwargs)\u001b[0m\n\u001b[0;32m    146\u001b[0m \u001b[39mimport\u001b[39;00m \u001b[39mmatplotlib\u001b[39;00m\u001b[39m.\u001b[39;00m\u001b[39mpyplot\u001b[39;00m \u001b[39mas\u001b[39;00m \u001b[39mplt\u001b[39;00m\n\u001b[0;32m    147\u001b[0m \u001b[39mfrom\u001b[39;00m \u001b[39mmpl_toolkits\u001b[39;00m\u001b[39m.\u001b[39;00m\u001b[39maxes_grid1\u001b[39;00m \u001b[39mimport\u001b[39;00m make_axes_locatable\n\u001b[1;32m--> 149\u001b[0m lo, hi, cmap \u001b[39m=\u001b[39m _get_display_range(image)\n\u001b[0;32m    151\u001b[0m kwargs\u001b[39m.\u001b[39msetdefault(\u001b[39m'\u001b[39m\u001b[39minterpolation\u001b[39m\u001b[39m'\u001b[39m, \u001b[39m'\u001b[39m\u001b[39mnearest\u001b[39m\u001b[39m'\u001b[39m)\n\u001b[0;32m    152\u001b[0m kwargs\u001b[39m.\u001b[39msetdefault(\u001b[39m'\u001b[39m\u001b[39mcmap\u001b[39m\u001b[39m'\u001b[39m, cmap)\n",
      "File \u001b[1;32mc:\\Users\\Gede Mahardika\\AppData\\Local\\Programs\\Python\\Python311\\Lib\\site-packages\\skimage\\io\\_plugins\\matplotlib_plugin.py:95\u001b[0m, in \u001b[0;36m_get_display_range\u001b[1;34m(image)\u001b[0m\n\u001b[0;32m     80\u001b[0m \u001b[39mdef\u001b[39;00m \u001b[39m_get_display_range\u001b[39m(image):\n\u001b[0;32m     81\u001b[0m     \u001b[39m\"\"\"Return the display range for a given set of image properties.\u001b[39;00m\n\u001b[0;32m     82\u001b[0m \n\u001b[0;32m     83\u001b[0m \u001b[39m    Parameters\u001b[39;00m\n\u001b[1;32m   (...)\u001b[0m\n\u001b[0;32m     93\u001b[0m \u001b[39m        The name of the colormap to use.\u001b[39;00m\n\u001b[0;32m     94\u001b[0m \u001b[39m    \"\"\"\u001b[39;00m\n\u001b[1;32m---> 95\u001b[0m     ip \u001b[39m=\u001b[39m _get_image_properties(image)\n\u001b[0;32m     96\u001b[0m     immin, immax \u001b[39m=\u001b[39m np\u001b[39m.\u001b[39mmin(image), np\u001b[39m.\u001b[39mmax(image)\n\u001b[0;32m     97\u001b[0m     \u001b[39mif\u001b[39;00m ip\u001b[39m.\u001b[39msigned:\n",
      "File \u001b[1;32mc:\\Users\\Gede Mahardika\\AppData\\Local\\Programs\\Python\\Python311\\Lib\\site-packages\\skimage\\io\\_plugins\\matplotlib_plugin.py:43\u001b[0m, in \u001b[0;36m_get_image_properties\u001b[1;34m(image)\u001b[0m\n\u001b[0;32m     20\u001b[0m \u001b[39m\"\"\"Determine nonstandard properties of an input image.\u001b[39;00m\n\u001b[0;32m     21\u001b[0m \n\u001b[0;32m     22\u001b[0m \u001b[39mParameters\u001b[39;00m\n\u001b[1;32m   (...)\u001b[0m\n\u001b[0;32m     40\u001b[0m \u001b[39m      standard skimage type, e.g. ``numpy.uint64``.\u001b[39;00m\n\u001b[0;32m     41\u001b[0m \u001b[39m\"\"\"\u001b[39;00m\n\u001b[0;32m     42\u001b[0m immin, immax \u001b[39m=\u001b[39m np\u001b[39m.\u001b[39mmin(image), np\u001b[39m.\u001b[39mmax(image)\n\u001b[1;32m---> 43\u001b[0m imtype \u001b[39m=\u001b[39m image\u001b[39m.\u001b[39;49mdtype\u001b[39m.\u001b[39mtype\n\u001b[0;32m     44\u001b[0m \u001b[39mtry\u001b[39;00m:\n\u001b[0;32m     45\u001b[0m     lo, hi \u001b[39m=\u001b[39m dtypes\u001b[39m.\u001b[39mdtype_range[imtype]\n",
      "\u001b[1;31mAttributeError\u001b[0m: 'list' object has no attribute 'dtype'"
     ]
    }
   ],
   "source": [
    "properties = ['dissimilarity', 'correlation', 'homogeneity', 'contrast', 'ASM', 'energy']\n",
    "glcm_all_agls = []\n",
    "glcm_all_agls.append(glcm_features(glcm_matrix, properties))\n",
    "\n",
    "columns = []\n",
    "angles = ['0', '45', '90','135']\n",
    "for name in properties :\n",
    "    for ang in angles:\n",
    "        columns.append(name + \"_\" + ang)\n",
    "        \n",
    "# columns.append(\"label\")\n",
    "columns\n"
   ]
  },
  {
   "cell_type": "code",
   "execution_count": 34,
   "metadata": {},
   "outputs": [
    {
     "data": {
      "text/html": [
       "<div>\n",
       "<style scoped>\n",
       "    .dataframe tbody tr th:only-of-type {\n",
       "        vertical-align: middle;\n",
       "    }\n",
       "\n",
       "    .dataframe tbody tr th {\n",
       "        vertical-align: top;\n",
       "    }\n",
       "\n",
       "    .dataframe thead th {\n",
       "        text-align: right;\n",
       "    }\n",
       "</style>\n",
       "<table border=\"1\" class=\"dataframe\">\n",
       "  <thead>\n",
       "    <tr style=\"text-align: right;\">\n",
       "      <th></th>\n",
       "      <th>dissimilarity_0</th>\n",
       "      <th>dissimilarity_45</th>\n",
       "      <th>dissimilarity_90</th>\n",
       "      <th>dissimilarity_135</th>\n",
       "      <th>correlation_0</th>\n",
       "      <th>correlation_45</th>\n",
       "      <th>correlation_90</th>\n",
       "      <th>correlation_135</th>\n",
       "      <th>homogeneity_0</th>\n",
       "      <th>homogeneity_45</th>\n",
       "      <th>...</th>\n",
       "      <th>contrast_90</th>\n",
       "      <th>contrast_135</th>\n",
       "      <th>ASM_0</th>\n",
       "      <th>ASM_45</th>\n",
       "      <th>ASM_90</th>\n",
       "      <th>ASM_135</th>\n",
       "      <th>energy_0</th>\n",
       "      <th>energy_45</th>\n",
       "      <th>energy_90</th>\n",
       "      <th>energy_135</th>\n",
       "    </tr>\n",
       "  </thead>\n",
       "  <tbody>\n",
       "    <tr>\n",
       "      <th>0</th>\n",
       "      <td>10.738918</td>\n",
       "      <td>15.094613</td>\n",
       "      <td>15.094613</td>\n",
       "      <td>15.987325</td>\n",
       "      <td>0.918852</td>\n",
       "      <td>0.815432</td>\n",
       "      <td>0.815432</td>\n",
       "      <td>0.816304</td>\n",
       "      <td>0.124583</td>\n",
       "      <td>0.101686</td>\n",
       "      <td>...</td>\n",
       "      <td>602.516976</td>\n",
       "      <td>599.168855</td>\n",
       "      <td>0.000511</td>\n",
       "      <td>0.000462</td>\n",
       "      <td>0.000462</td>\n",
       "      <td>0.000443</td>\n",
       "      <td>0.022606</td>\n",
       "      <td>0.021492</td>\n",
       "      <td>0.021492</td>\n",
       "      <td>0.021037</td>\n",
       "    </tr>\n",
       "  </tbody>\n",
       "</table>\n",
       "<p>1 rows × 24 columns</p>\n",
       "</div>"
      ],
      "text/plain": [
       "   dissimilarity_0  dissimilarity_45  dissimilarity_90  dissimilarity_135  \\\n",
       "0        10.738918         15.094613         15.094613          15.987325   \n",
       "\n",
       "   correlation_0  correlation_45  correlation_90  correlation_135  \\\n",
       "0       0.918852        0.815432        0.815432         0.816304   \n",
       "\n",
       "   homogeneity_0  homogeneity_45  ...  contrast_90  contrast_135     ASM_0  \\\n",
       "0       0.124583        0.101686  ...   602.516976    599.168855  0.000511   \n",
       "\n",
       "     ASM_45    ASM_90   ASM_135  energy_0  energy_45  energy_90  energy_135  \n",
       "0  0.000462  0.000462  0.000443  0.022606   0.021492   0.021492    0.021037  \n",
       "\n",
       "[1 rows x 24 columns]"
      ]
     },
     "execution_count": 34,
     "metadata": {},
     "output_type": "execute_result"
    }
   ],
   "source": [
    "\n",
    "import pandas as pd \n",
    "\n",
    "# Create the pandas DataFrame for GLCM features data\n",
    "glcm_df = pd.DataFrame(glcm_all_agls, \n",
    "                      columns = columns)\n",
    "\n",
    "glcm_df"
   ]
  }
 ],
 "metadata": {
  "kernelspec": {
   "display_name": "Python 3",
   "language": "python",
   "name": "python3"
  },
  "language_info": {
   "codemirror_mode": {
    "name": "ipython",
    "version": 3
   },
   "file_extension": ".py",
   "mimetype": "text/x-python",
   "name": "python",
   "nbconvert_exporter": "python",
   "pygments_lexer": "ipython3",
   "version": "3.11.0"
  },
  "orig_nbformat": 4
 },
 "nbformat": 4,
 "nbformat_minor": 2
}
