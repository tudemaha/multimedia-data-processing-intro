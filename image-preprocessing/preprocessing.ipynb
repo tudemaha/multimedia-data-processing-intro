{
 "cells": [
  {
   "cell_type": "code",
   "execution_count": null,
   "metadata": {},
   "outputs": [],
   "source": [
    "import numpy as np\n",
    "from skimage import io\n",
    "from skimage.feature import graycomatrix, graycoprops\n",
    "import math\n",
    "import pandas as pd\n",
    "from matplotlib import pyplot as plt"
   ]
  },
  {
   "cell_type": "code",
   "execution_count": null,
   "metadata": {},
   "outputs": [],
   "source": [
    "happy = ['0105', '0107', '0110']\n",
    "neutral = ['0101', '0106', '0109']\n",
    "sad = ['0106', '0107', '0110']\n",
    "\n",
    "selected = {\n",
    "    'happy': happy,\n",
    "    'neutral': neutral,\n",
    "    'sad': sad\n",
    "}"
   ]
  },
  {
   "cell_type": "code",
   "execution_count": null,
   "metadata": {},
   "outputs": [],
   "source": [
    "def create_pixel_matrix(emotion: str, number_images: list) -> list:\n",
    "        return io.imread(f'datasets/{emotion}/{emotion}-{number_images}.jpg', as_gray = True)"
   ]
  },
  {
   "cell_type": "code",
   "execution_count": null,
   "metadata": {},
   "outputs": [],
   "source": [
    "def show_histogram(title: str, image_pixel: list):\n",
    "        plt.subplot(1, 2, 1)\n",
    "        plt.imshow(image_pixel, cmap = 'gray')\n",
    "        plt.title(title)\n",
    "\n",
    "        plt.subplot(1, 2, 2)\n",
    "        plt.hist(image_pixel.ravel(), 256, [0, 255])\n",
    "        plt.title(f'{title} histogram')\n",
    "\n",
    "        plt.show()"
   ]
  },
  {
   "cell_type": "code",
   "execution_count": null,
   "metadata": {},
   "outputs": [],
   "source": [
    "def first_order_statistics(image_pixel: list) -> tuple:\n",
    "    hist, _ = np.histogram(image_pixel, 256, [0, 255])\n",
    "\n",
    "    # mean\n",
    "    # print(np.mean(image_pixel))\n",
    "    hist_sum = sum(hist)\n",
    "    hist_per_sum = []\n",
    "    mean = 0\n",
    "    for h in hist:\n",
    "        hist_per_sum.append(h / hist_sum)\n",
    "    for i in range(256):\n",
    "        mean += hist_per_sum[i] * i\n",
    "\n",
    "    # print(mean)\n",
    "\n",
    "    # variance\n",
    "    # print(np.var(image_pixel))\n",
    "    variance = 0\n",
    "    for i in range(256):\n",
    "        variance += (i - mean) ** 2 * hist_per_sum[i]\n",
    "    # print(variance)\n",
    "\n",
    "    # skewness\n",
    "    skewness = 0\n",
    "    for i in range(256):\n",
    "        skewness += (i - mean) ** 3 * hist_per_sum[i]\n",
    "    skewness = skewness / (variance * math.sqrt(variance))\n",
    "    # print(skewness)\n",
    "\n",
    "    # kurtosis\n",
    "    kurtosis = 0\n",
    "    for i in range(256):\n",
    "        kurtosis += (i - mean) ** 4 * hist_per_sum[i]\n",
    "    kurtosis = kurtosis / (variance ** 2) - 3\n",
    "    # print(kurtosis)\n",
    "\n",
    "    # entropy\n",
    "    entropy = 0\n",
    "    for i in range(246):\n",
    "        entropy += hist_per_sum[i] * math.log2(np.spacing(hist_per_sum[i]))\n",
    "    entropy = -entropy\n",
    "    # print(entropy)\n",
    "\n",
    "    return (mean, variance, skewness, kurtosis, entropy)"
   ]
  },
  {
   "cell_type": "code",
   "execution_count": null,
   "metadata": {},
   "outputs": [],
   "source": [
    "first_statistics = []\n",
    "image_label = []\n",
    "pixel_images = {\n",
    "    'happy': [],\n",
    "    'neutral': [],\n",
    "    'sad': []\n",
    "}\n",
    "\n",
    "for emotion in ['happy', 'neutral', 'sad']:\n",
    "    for e in selected[emotion]:\n",
    "        image_label.append(f'{emotion}-{e}')\n",
    "        image_pixel = create_pixel_matrix(emotion, e)\n",
    "        pixel_images[emotion].append(image_pixel)\n",
    "        show_histogram(f'{emotion}-{e}', image_pixel)\n",
    "        first_statistics.append(first_order_statistics(image_pixel))\n",
    "\n",
    "test = pd.DataFrame(first_statistics, columns=['mean', 'variance', 'skewness', 'kurtosis', 'entropy'], index=image_label)\n",
    "print('First Order Statistics')\n",
    "test"
   ]
  },
  {
   "cell_type": "code",
   "execution_count": null,
   "metadata": {},
   "outputs": [],
   "source": [
    "def glcm_calculation(pixel_image, dist = [1], angles = [0, np.pi / 4, np.pi / 3, 3 * np.pi / 4], sym = True, norm = True):\n",
    "    glcm = graycomatrix(pixel_image,\n",
    "                        distances = dist,\n",
    "                        angles = angles,\n",
    "                        symmetric = sym,\n",
    "                        normed = norm)\n",
    "    return glcm"
   ]
  },
  {
   "cell_type": "code",
   "execution_count": null,
   "metadata": {},
   "outputs": [],
   "source": [
    "def glcm_features(glcm_matrix: list, props: list) -> list:\n",
    "    features = []\n",
    "    # glcm_props = [property for name in props for property in graycoprops(glcm_matrix, name)[0]]\n",
    "    for name in props:\n",
    "        for property in graycoprops(glcm_matrix, name):\n",
    "            features.append(property)\n",
    "\n",
    "    return np.array(features).ravel()"
   ]
  },
  {
   "cell_type": "code",
   "execution_count": null,
   "metadata": {},
   "outputs": [],
   "source": [
    "def texture_histogram(title: str, glcm_matrix: list):\n",
    "    for i, angle in enumerate(['0', '45', '90', '135']):\n",
    "        plt.subplot(1, 4, i + 1)\n",
    "        plt.hist(glcm_matrix[:,:,0,i])\n",
    "        plt.title(f'{title}_{angle}', fontsize = 10)\n",
    "        plt.tight_layout()\n",
    "    plt.show()"
   ]
  },
  {
   "cell_type": "code",
   "execution_count": null,
   "metadata": {},
   "outputs": [],
   "source": [
    "for emotion in ['happy', 'neutral', 'sad']:\n",
    "    for i, e in enumerate(selected[emotion]):\n",
    "        texture_histogram(f'{emotion}-{e}' ,glcm_calculation(pixel_images[emotion][i]))"
   ]
  },
  {
   "cell_type": "code",
   "execution_count": null,
   "metadata": {},
   "outputs": [],
   "source": [
    "properties = ['dissimilarity', 'correlation', 'homogeneity', 'contrast', 'ASM', 'energy']\n",
    "features_result = []\n",
    "\n",
    "for emotion in ['happy', 'neutral', 'sad']:\n",
    "    for pi in pixel_images[emotion]:\n",
    "        features_result.append(glcm_features(glcm_calculation(pi), properties))"
   ]
  },
  {
   "cell_type": "code",
   "execution_count": null,
   "metadata": {},
   "outputs": [],
   "source": [
    "angles = ['0', '45', '90', '135']\n",
    "labels = []\n",
    "index = []\n",
    "for property in properties:\n",
    "    for angle in angles:\n",
    "        labels.append(f'{property}_{angle}')\n",
    "\n",
    "for emotion in ['happy', 'neutral', 'sad']:\n",
    "    for e in selected[emotion]:\n",
    "        index.append(f'{emotion}-{e}')"
   ]
  },
  {
   "cell_type": "code",
   "execution_count": null,
   "metadata": {},
   "outputs": [],
   "source": [
    "second_statistics = pd.DataFrame(features_result, index = index, columns = labels)\n",
    "second_statistics"
   ]
  }
 ],
 "metadata": {
  "kernelspec": {
   "display_name": "Python 3",
   "language": "python",
   "name": "python3"
  },
  "language_info": {
   "codemirror_mode": {
    "name": "ipython",
    "version": 3
   },
   "file_extension": ".py",
   "mimetype": "text/x-python",
   "name": "python",
   "nbconvert_exporter": "python",
   "pygments_lexer": "ipython3",
   "version": "3.11.0"
  },
  "orig_nbformat": 4
 },
 "nbformat": 4,
 "nbformat_minor": 2
}
