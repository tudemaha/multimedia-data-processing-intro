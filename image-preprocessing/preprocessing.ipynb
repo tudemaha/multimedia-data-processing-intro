{
 "cells": [
  {
   "cell_type": "code",
   "execution_count": 176,
   "metadata": {},
   "outputs": [],
   "source": [
    "import numpy as np\n",
    "from skimage import io\n",
    "import math\n",
    "from matplotlib import pyplot as plt"
   ]
  },
  {
   "cell_type": "code",
   "execution_count": 78,
   "metadata": {},
   "outputs": [],
   "source": [
    "happy = ['0105', '0107', '0110']\n",
    "neutral = ['0101', '0106', '0109']\n",
    "sad = ['0106', '0107', '0110']"
   ]
  },
  {
   "cell_type": "code",
   "execution_count": 79,
   "metadata": {},
   "outputs": [],
   "source": [
    "def create_pixel_matrix(emotion: str, number_images: list) -> list:\n",
    "    images_pixel = []\n",
    "    for i in range(len(number_images)):\n",
    "        images_pixel.append(io.imread(f'datasets/{emotion}/{emotion}-{number_images[i]}.jpg', as_gray = True))\n",
    "    return images_pixel"
   ]
  },
  {
   "cell_type": "code",
   "execution_count": 80,
   "metadata": {},
   "outputs": [],
   "source": [
    "def show_histogram(emotion: str, number_images: list, image_pixel: list):\n",
    "    for i in range(len(image_pixel)):\n",
    "        plt.subplot(1, 2, 1)\n",
    "        plt.imshow(image_pixel[i], cmap = 'gray')\n",
    "        plt.title(f'{emotion}-{number_images[i]}')\n",
    "        \n",
    "        plt.subplot(1, 2, 2)\n",
    "        plt.hist(image_pixel[i].ravel(), 256, [0, 255])\n",
    "        plt.title(f'{emotion}-{number_images[i]} histogram')\n",
    "\n",
    "        plt.show()"
   ]
  },
  {
   "cell_type": "code",
   "execution_count": 213,
   "metadata": {},
   "outputs": [],
   "source": [
    "def first_order_statistics(image_pixel: list):\n",
    "    hist, bins = np.histogram(image_pixel, 256, [0, 255])\n",
    "\n",
    "    # mean\n",
    "    # print(np.mean(image_pixel))\n",
    "    hist_sum = sum(hist)\n",
    "    hist_per_sum = []\n",
    "    mean = 0\n",
    "    for h in hist:\n",
    "        hist_per_sum.append(h / hist_sum)\n",
    "    for i in range(256):\n",
    "        mean += hist_per_sum[i] * i\n",
    "\n",
    "    print(mean)\n",
    "\n",
    "    # variance\n",
    "    # print(np.var(image_pixel))\n",
    "    variance = 0\n",
    "    for i in range(256):\n",
    "        variance += (i - mean) ** 2 * hist_per_sum[i]\n",
    "    print(variance)\n",
    "\n",
    "    # skewness\n",
    "    skewness = 0\n",
    "    for i in range(256):\n",
    "        skewness += (i - mean) ** 3 * hist_per_sum[i]\n",
    "    skewness = skewness / (variance * math.sqrt(variance))\n",
    "    print(skewness)\n",
    "\n",
    "    # kurtosis\n",
    "    kurtosis = 0\n",
    "    for i in range(256):\n",
    "        kurtosis += (i - mean) ** 4 * hist_per_sum[i]\n",
    "    kurtosis = kurtosis / (variance ** 2) - 3\n",
    "    print(kurtosis)\n",
    "\n",
    "    # entropy\n",
    "    entropy = 0\n",
    "    for i in range(246):\n",
    "        entropy += hist_per_sum[i] * math.log2(np.spacing(hist_per_sum[i]))\n",
    "    entropy = -entropy\n",
    "    print(entropy)"
   ]
  },
  {
   "cell_type": "code",
   "execution_count": 214,
   "metadata": {},
   "outputs": [
    {
     "name": "stdout",
     "output_type": "stream",
     "text": [
      "102.97612847222233\n",
      "1664.5502114001613\n",
      "0.7117525093143018\n",
      "0.23420158205262442\n",
      "59.60503472222219\n"
     ]
    }
   ],
   "source": [
    "pixel_image = create_pixel_matrix('happy', happy)\n",
    "# show_histogram('happy', happy, pixel_image)\n",
    "first_order_statistics(pixel_image[0])"
   ]
  }
 ],
 "metadata": {
  "kernelspec": {
   "display_name": "Python 3",
   "language": "python",
   "name": "python3"
  },
  "language_info": {
   "codemirror_mode": {
    "name": "ipython",
    "version": 3
   },
   "file_extension": ".py",
   "mimetype": "text/x-python",
   "name": "python",
   "nbconvert_exporter": "python",
   "pygments_lexer": "ipython3",
   "version": "3.11.0"
  },
  "orig_nbformat": 4
 },
 "nbformat": 4,
 "nbformat_minor": 2
}
